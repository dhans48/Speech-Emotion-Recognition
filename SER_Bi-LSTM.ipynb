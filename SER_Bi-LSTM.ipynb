{
 "cells": [
  {
   "cell_type": "code",
   "execution_count": 1,
   "id": "8d901740",
   "metadata": {},
   "outputs": [],
   "source": [
    "import os\n",
    "\n",
    "import numpy as np # linear algebra\n",
    "import pandas as pd # data processing, CSV file I/O (e.g. pd.read_csv)\n",
    "import matplotlib.pyplot as plt\n",
    "import seaborn as sns\n",
    "from numpy import save,load\n",
    "\n",
    "# librosa is a Python library for analyzing audio and music.\n",
    "# It can be used to extract the data from the audio files we will see it later\n",
    "import librosa \n",
    "import librosa.display\n",
    "\n",
    "# to play the audio files\n",
    "from IPython.display import Audio\n",
    "plt.style.use('seaborn-white')\n",
    "\n",
    "from optparse import OptionParser\n",
    "\n",
    "import tensorflow as tf\n",
    "from keras.layers import Input, Dense, Masking, Dropout, LSTM, Bidirectional, Activation\n",
    "from keras.layers.merge import dot\n",
    "from keras.models import Model, load_model\n",
    "from tensorflow.keras.utils import to_categorical\n",
    "from keras.callbacks import EarlyStopping\n",
    "from keras.callbacks import ModelCheckpoint\n",
    "from keras import optimizers\n",
    "from keras import backend as k\n",
    "\n",
    "from sklearn.model_selection import train_test_split\n",
    "\n",
    "from hyperas import optim\n",
    "from hyperopt import Trials, tpe\n",
    "from hyperopt import STATUS_OK\n",
    "from hyperas.distributions import choice\n",
    "\n",
    "import sys\n",
    "import numpy as np\n",
    "from scipy import stats\n",
    "from keras.preprocessing import sequence\n",
    "from sklearn.preprocessing import StandardScaler, OneHotEncoder\n",
    "from sklearn.metrics import confusion_matrix, classification_report\n",
    "\n",
    "import warnings\n",
    "warnings.filterwarnings('ignore')"
   ]
  },
  {
   "cell_type": "markdown",
   "id": "e5072772",
   "metadata": {},
   "source": [
    "# Data Load"
   ]
  },
  {
   "cell_type": "code",
   "execution_count": 2,
   "id": "4d3b3534",
   "metadata": {},
   "outputs": [],
   "source": [
    "# Read given audio file's path and respective emotion from the file name and create a dataframe\n",
    "def read_audio_data(data_dir, aud_src_list):\n",
    "    columns = []\n",
    "    for aud_dir in aud_src_list:\n",
    "        \n",
    "        # Read CREMA-D audio files        \n",
    "        if aud_dir == 'CREMA_D':\n",
    "            file_path = data_dir+'/'+aud_dir\n",
    "            files = os.listdir(file_path)\n",
    "            for file in files: \n",
    "                part = file.split('_')   \n",
    "                path = ''\n",
    "                if part[2] == 'SAD':\n",
    "                    emotion = 'sad'\n",
    "                elif part[2] == 'ANG':\n",
    "                    emotion = 'angry'\n",
    "                elif part[2] == 'DIS':\n",
    "                    emotion = 'disgust'\n",
    "                elif part[2] == 'FEA':\n",
    "                    emotion = 'fear'\n",
    "                elif part[2] == 'HAP':\n",
    "                    emotion = 'happy'\n",
    "                elif part[2] == 'NEU':\n",
    "                    emotion = 'neutral'  \n",
    "                else:\n",
    "                    emotion = 'unknown'\n",
    "\n",
    "                path = file_path+'/'+file\n",
    "                columns.append([emotion, path])\n",
    "        \n",
    "        # Read SAVEE audio files\n",
    "        if aud_dir == 'SAVEE':\n",
    "            file_path = data_dir+'/'+aud_dir\n",
    "            files = os.listdir(file_path)\n",
    "\n",
    "            for file in files:\n",
    "                path = ''\n",
    "                if file[-8:-6]=='_a':\n",
    "                    emotion = 'angry'\n",
    "                elif file[-8:-6]=='_d':\n",
    "                    emotion = 'disgust'\n",
    "                elif file[-8:-6]=='_f':\n",
    "                    emotion = 'fear'\n",
    "                elif file[-8:-6]=='_h':\n",
    "                    emotion = 'happy'\n",
    "                elif file[-8:-6]=='_n':\n",
    "                    emotion = 'neutral'\n",
    "                elif file[-8:-6]=='sa':\n",
    "                    emotion = 'sad'\n",
    "                elif file[-8:-6]=='su':\n",
    "                    emotion = 'surprise'\n",
    "                else:\n",
    "                    emotion  = 'unknown'\n",
    "                path = file_path+'/'+file\n",
    "                columns.append([emotion, path])\n",
    "        \n",
    "        # Read TESS audio files\n",
    "        if aud_dir == 'TESS':\n",
    "            file_path = data_dir+'/'+aud_dir\n",
    "            files = os.listdir(file_path)\n",
    "\n",
    "            for file in files:\n",
    "                fname = os.listdir(file_path +'/'+ file)   \n",
    "                for f in fname:\n",
    "                    path = ''\n",
    "                    if file == 'OAF_angry' or file == 'YAF_angry':\n",
    "                        emotion = 'angry'\n",
    "                    elif file == 'OAF_disgust' or file == 'YAF_disgust':\n",
    "                        emotion = 'disgust'\n",
    "                    elif file == 'OAF_Fear' or file == 'YAF_fear':\n",
    "                        emotion = 'fear'\n",
    "                    elif file == 'OAF_happy' or file == 'YAF_happy':\n",
    "                        emotion = 'happy'\n",
    "                    elif file == 'OAF_neutral' or file == 'YAF_neutral':\n",
    "                        emotion = 'neutral'                               \n",
    "                    elif file == 'OAF_Pleasant_surprise' or file == 'YAF_pleasant_surprised':\n",
    "                        emotion = 'surprise'              \n",
    "                    elif file == 'OAF_Sad' or file == 'YAF_sad':\n",
    "                        emotion = 'sad'\n",
    "                    else:\n",
    "                        emotion = 'Unknown'\n",
    "                    path = file_path+'/'+file+'/'+f\n",
    "                    columns.append([emotion, path])\n",
    "        \n",
    "        # Read RAVDESS audio files\n",
    "        if aud_dir == 'RAVDESS':\n",
    "            file_path = data_dir+'/'+aud_dir\n",
    "            actors = os.listdir(file_path)\n",
    "            for actor in actors:\n",
    "                files = os.listdir(file_path +'/'+ actor)\n",
    "\n",
    "                for file in files: \n",
    "                    part = file.split('.')[0]\n",
    "                    part = part.split(\"-\")           \n",
    "\n",
    "                    temp = int(part[6])\n",
    "                    path=''\n",
    "\n",
    "                    if part[2] == '01':\n",
    "                        emotion = 'neutral'\n",
    "                    elif part[2] == '02':\n",
    "                        emotion = 'calm'\n",
    "                    elif part[2] == '03':\n",
    "                        emotion = 'happy'\n",
    "                    elif part[2] == '04':\n",
    "                        emotion = 'sad'\n",
    "                    elif part[2] == '05':\n",
    "                        emotion = 'angry'\n",
    "                    elif part[2] == '06':\n",
    "                        emotion = 'fear'\n",
    "                    elif part[2] == '07':\n",
    "                        emotion = 'disgust'\n",
    "                    elif part[2] == '08':\n",
    "                        emotion = 'surprise'\n",
    "                    else:\n",
    "                        emotion = 'unknown'\n",
    "                    path = file_path+'/'+actor+'/'+file\n",
    "                    columns.append([emotion, path])\n",
    "                \n",
    "    audio_df = pd.DataFrame(columns)\n",
    "    audio_df.columns = ['labels', 'path']\n",
    "    \n",
    "    return audio_df"
   ]
  },
  {
   "cell_type": "code",
   "execution_count": 3,
   "id": "8ddda97d",
   "metadata": {},
   "outputs": [],
   "source": [
    "# %%time\n",
    "# # Read audio files and save emotion and path in CSV files. We can load individual/ multiple datasets by passing the dataset name(s).\n",
    "# SER_audio_df = read_audio_data('data/Audio',['CREMA_D','TESS','SAVEE','RAVDESS'])\n",
    "# SER_audio_df.to_csv(\"data/SER_audio_files.csv\", index = False)\n"
   ]
  },
  {
   "cell_type": "code",
   "execution_count": 3,
   "id": "c3faf28c",
   "metadata": {},
   "outputs": [],
   "source": [
    "# Read audio file path from already prepared CSV file\n",
    "SER_audio_df = pd.read_csv('data/SER_audio_files.csv')"
   ]
  },
  {
   "cell_type": "code",
   "execution_count": 4,
   "id": "cae1722f",
   "metadata": {
    "scrolled": true
   },
   "outputs": [
    {
     "data": {
      "text/plain": [
       "labels    12162\n",
       "path      12162\n",
       "dtype: int64"
      ]
     },
     "execution_count": 4,
     "metadata": {},
     "output_type": "execute_result"
    }
   ],
   "source": [
    "SER_audio_df.count()"
   ]
  },
  {
   "cell_type": "code",
   "execution_count": 5,
   "id": "42256dbc",
   "metadata": {},
   "outputs": [],
   "source": [
    "# Audio augmentation \n",
    "class audio_augment():\n",
    "       \n",
    "    # Add noise to audio\n",
    "    def noise(self, data):\n",
    "        noise_amp = 0.04*np.random.uniform()*np.amax(data)\n",
    "        data = data + noise_amp*np.random.normal(size=data.shape[0])\n",
    "        return data\n",
    "    \n",
    "    # Stretch audio\n",
    "    def stretch(self, data, rate):\n",
    "        return librosa.effects.time_stretch(data, rate)\n",
    "    \n",
    "    # Shift audio\n",
    "    def shift(self, data):\n",
    "        shift_range = int(np.random.uniform(low=-5, high = 5)*1000)\n",
    "        return np.roll(data, shift_range)\n",
    "\n",
    "    # Change pitch in audio\n",
    "    def pitch(self, data, sampling_rate, pitch_factor):\n",
    "        return librosa.effects.pitch_shift(data, sampling_rate, pitch_factor)\n",
    "\n",
    "    # Speed up audio\n",
    "    def higher_speed(self, data, speed_factor):\n",
    "        return librosa.effects.time_stretch(data, speed_factor)\n",
    "\n",
    "    # Speed down audio\n",
    "    def lower_speed(self, data, speed_factor):\n",
    "        return librosa.effects.time_stretch(data, speed_factor)\n"
   ]
  },
  {
   "cell_type": "markdown",
   "id": "d0926178",
   "metadata": {},
   "source": [
    "### Load data"
   ]
  },
  {
   "cell_type": "code",
   "execution_count": 6,
   "id": "52d13c52",
   "metadata": {},
   "outputs": [],
   "source": [
    "class extract_features():\n",
    "    \n",
    "    def extract_mfcc(self,data):\n",
    "        f = librosa.feature.mfcc(y=data, sr=22050, n_mfcc=58)\n",
    "        f = stats.zscore(f, axis=0)\n",
    "        f = f.transpose()\n",
    "        return f\n",
    "    \n",
    "    def extract_audio(self,audio_df):\n",
    "        # np.set_printoptions(threshold=np.inf)\n",
    "        ftr_global = []\n",
    "        tgt_global = []\n",
    "        audi_aug = ['base','noise','stretch','shift','pitch','higher_speed','lower_speed']\n",
    "\n",
    "        augment = audio_augment()\n",
    "\n",
    "        for path,emotion in zip(audio_df.path, audio_df.labels):\n",
    "            data, sample_rate = librosa.load(path, duration=3, offset=0.5, res_type='kaiser_fast')\n",
    "\n",
    "            for ft in audi_aug:\n",
    "                if ft == 'base':\n",
    "                    data = data\n",
    "                elif ft == 'noise':\n",
    "                    data = augment.noise(data)\n",
    "                elif ft == 'stretch':\n",
    "                    data = augment.stretch(data,rate=0.70)\n",
    "                elif ft == 'shift':\n",
    "                    data = augment.shift(data)\n",
    "                elif ft == 'pitch':\n",
    "                    data = augment.pitch(data,sample_rate,pitch_factor=0.8)\n",
    "                elif ft == 'higher_speed':\n",
    "                    data = augment.higher_speed(data,speed_factor = 1.25)\n",
    "                elif ft == 'lower_speed':\n",
    "                    data = augment.lower_speed(data,speed_factor = 0.75)\n",
    "\n",
    "                f = ef.extract_mfcc(data)\n",
    "                ftr_global.append(f)\n",
    "                tgt_global.append(emotion)\n",
    "\n",
    "        ftr_global = sequence.pad_sequences(ftr_global,\n",
    "                                          maxlen=200,\n",
    "                                          dtype='float32',\n",
    "                                          padding='post',\n",
    "                                          value=-100.0)\n",
    "        return ftr_global,tgt_global\n",
    "    \n",
    "    def main(self,action, fileDf):\n",
    "        ftr_global = []\n",
    "        tgt_global = []\n",
    "        # if load(l) then read the already extracted and saved features from CSV file\n",
    "        if action == \"l\":\n",
    "            ftr_global = load(fileDf[0])\n",
    "            tgt_global = load(fileDf[1])\n",
    "        # if extract(e) then extract audio features from audio files\n",
    "        elif action == \"e\":\n",
    "            ftr_global,tgt_global = self.extract_audio(fileDf)\n",
    "            # save to npy file\n",
    "            save('data\\\\SER_features.npy', ftr_global)\n",
    "            save('data\\\\SER_target.npy',tgt_global)\n",
    "\n",
    "        return ftr_global,tgt_global\n"
   ]
  },
  {
   "cell_type": "code",
   "execution_count": 7,
   "id": "4c859434",
   "metadata": {},
   "outputs": [
    {
     "name": "stdout",
     "output_type": "stream",
     "text": [
      "CPU times: total: 1.61 s\n",
      "Wall time: 40.3 s\n"
     ]
    }
   ],
   "source": [
    "%%time\n",
    "\n",
    "# Create instance of \"extract_features\" class\n",
    "ef = extract_features()\n",
    "\n",
    "# # Load already extracted files\n",
    "ftr_global,tgt_global = ef.main(\"l\", ['data/SER_features.npy','data/SER_target.npy'])\n",
    "\n",
    "# Extract features from audion files\n",
    "# ftr_global,tgt_global = ef.main(\"e\",SER_audio_df)"
   ]
  },
  {
   "cell_type": "code",
   "execution_count": 8,
   "id": "59bc6f55",
   "metadata": {},
   "outputs": [
    {
     "name": "stdout",
     "output_type": "stream",
     "text": [
      "85134\n"
     ]
    }
   ],
   "source": [
    "print(len(tgt_global))"
   ]
  },
  {
   "cell_type": "markdown",
   "id": "7ca15cf2",
   "metadata": {},
   "source": [
    "### Data Preparation"
   ]
  },
  {
   "cell_type": "code",
   "execution_count": 21,
   "id": "efc816e5",
   "metadata": {},
   "outputs": [],
   "source": [
    "encoder = OneHotEncoder()\n",
    "def encode_target(raw_Y):\n",
    "    #encoder = OneHotEncoder()\n",
    "    # As this is a multiclass classification problem onehotencoding our Y\n",
    "    enc_Y =  encoder.fit_transform(np.array(raw_Y).reshape(-1,1)).toarray()\n",
    "    return enc_Y\n",
    "\n",
    "def split_data(X,Y,tst_size):\n",
    "    # Split dataset\n",
    "    X_train, X_test, y_train, y_test = train_test_split(X, Y, random_state=0, test_size=tst_size, shuffle=True)\n",
    "    return X_train, X_test, y_train, y_test\n",
    "\n",
    "def attension_data(train,test):\n",
    "    # attention set\n",
    "    U_train = np.full((train.shape[0], 256), 1.0/256, dtype=np.float32)\n",
    "    U_test = np.full((test.shape[0], 256), 1.0/256, dtype=np.float32)\n",
    "    return U_train, U_test"
   ]
  },
  {
   "cell_type": "code",
   "execution_count": 22,
   "id": "20a27e6d",
   "metadata": {},
   "outputs": [
    {
     "name": "stdout",
     "output_type": "stream",
     "text": [
      "(68107, 200, 58) (68107, 8) (17027, 200, 58) (17027, 8)\n",
      "(68107, 200, 58) (68107, 8) (17027, 200, 58) (17027, 8) (68107, 256) (17027, 256)\n"
     ]
    }
   ],
   "source": [
    "# encode target\n",
    "Y = encode_target(tgt_global)\n",
    "\n",
    "#Split train & test set\n",
    "X_train, X_test, y_train, y_test = split_data(ftr_global,Y,0.20)\n",
    "print(X_train.shape, y_train.shape, X_test.shape, y_test.shape)\n",
    "\n",
    "# Attension data\n",
    "U_train, U_test = attension_data(X_train, X_test)\n",
    "print(X_train.shape, y_train.shape, X_test.shape, y_test.shape, U_train.shape, U_test.shape)"
   ]
  },
  {
   "cell_type": "markdown",
   "id": "9b6f1f2d",
   "metadata": {},
   "source": [
    "### Model"
   ]
  },
  {
   "cell_type": "code",
   "execution_count": 12,
   "id": "4bf9ecb0",
   "metadata": {},
   "outputs": [
    {
     "name": "stdout",
     "output_type": "stream",
     "text": [
      "INFO:tensorflow:Using MirroredStrategy with devices ('/job:localhost/replica:0/task:0/device:GPU:0',)\n",
      "Number of devices: 1\n"
     ]
    }
   ],
   "source": [
    "# Create a MirroredStrategy.\n",
    "strategy = tf.distribute.MirroredStrategy()\n",
    "print('Number of devices: {}'.format(strategy.num_replicas_in_sync))"
   ]
  },
  {
   "cell_type": "code",
   "execution_count": 13,
   "id": "462fe49a",
   "metadata": {},
   "outputs": [],
   "source": [
    "with strategy.scope():\n",
    "    with k.name_scope('BLSTMLayer'):\n",
    "        # Bi-directional Long Short-Term Memory for learning the temporal aggregation\n",
    "        input_feature = Input(shape=(200,58))\n",
    "        x = Masking(mask_value=-100.0)(input_feature)\n",
    "        x = Dense(512, activation='relu')(x)\n",
    "        x = Dropout(0.5)(x)\n",
    "        x = Dense(512, activation='relu')(x)\n",
    "        x = Dropout(0.5)(x)\n",
    "        y = Bidirectional(LSTM(128, return_sequences=True, dropout=0.5))(x)\n",
    "\n",
    "    with k.name_scope('AttentionLayer'):\n",
    "        # Logistic regression for learning the attention parameters with a standalone feature as input\n",
    "        input_attention = Input(shape=(128 * 2,))\n",
    "        u = Dense(128 * 2, activation='softmax')(input_attention)\n",
    "\n",
    "        # To compute the final weights for the frames which sum to unity\n",
    "        alpha = dot([u, y], axes=-1)  # inner prod.\n",
    "        alpha = Activation('softmax')(alpha)\n",
    "\n",
    "    with k.name_scope('WeightedPooling'):\n",
    "        # Weighted pooling to get the utterance-level representation\n",
    "        z = dot([alpha, y], axes=1)\n",
    "\n",
    "    # Get posterior probability for each emotional class\n",
    "    output = Dense(8, activation='softmax')(z)\n",
    "\n",
    "    BiLSTM_model = Model(inputs=[input_attention, input_feature], outputs=output)"
   ]
  },
  {
   "cell_type": "code",
   "execution_count": 14,
   "id": "c314da88",
   "metadata": {},
   "outputs": [
    {
     "name": "stdout",
     "output_type": "stream",
     "text": [
      "INFO:tensorflow:Reduce to /job:localhost/replica:0/task:0/device:CPU:0 then broadcast to ('/job:localhost/replica:0/task:0/device:CPU:0',).\n",
      "INFO:tensorflow:Reduce to /job:localhost/replica:0/task:0/device:CPU:0 then broadcast to ('/job:localhost/replica:0/task:0/device:CPU:0',).\n",
      "INFO:tensorflow:Reduce to /job:localhost/replica:0/task:0/device:CPU:0 then broadcast to ('/job:localhost/replica:0/task:0/device:CPU:0',).\n",
      "INFO:tensorflow:Reduce to /job:localhost/replica:0/task:0/device:CPU:0 then broadcast to ('/job:localhost/replica:0/task:0/device:CPU:0',).\n"
     ]
    }
   ],
   "source": [
    "BiLSTM_model.compile(optimizer = 'adam' , loss = 'categorical_crossentropy' , metrics = ['accuracy'])"
   ]
  },
  {
   "cell_type": "code",
   "execution_count": 15,
   "id": "f9609403",
   "metadata": {},
   "outputs": [],
   "source": [
    "callback_list = [\n",
    "        EarlyStopping(\n",
    "            monitor='val_loss',\n",
    "            patience=10,\n",
    "            verbose=1,\n",
    "            mode='auto'\n",
    "        )\n",
    "    ]"
   ]
  },
  {
   "cell_type": "code",
   "execution_count": 16,
   "id": "e24c86b5",
   "metadata": {},
   "outputs": [
    {
     "name": "stdout",
     "output_type": "stream",
     "text": [
      "Epoch 1/50\n",
      "INFO:tensorflow:Reduce to /job:localhost/replica:0/task:0/device:CPU:0 then broadcast to ('/job:localhost/replica:0/task:0/device:CPU:0',).\n",
      "INFO:tensorflow:Reduce to /job:localhost/replica:0/task:0/device:CPU:0 then broadcast to ('/job:localhost/replica:0/task:0/device:CPU:0',).\n",
      "INFO:tensorflow:Reduce to /job:localhost/replica:0/task:0/device:CPU:0 then broadcast to ('/job:localhost/replica:0/task:0/device:CPU:0',).\n",
      "INFO:tensorflow:Reduce to /job:localhost/replica:0/task:0/device:CPU:0 then broadcast to ('/job:localhost/replica:0/task:0/device:CPU:0',).\n",
      "INFO:tensorflow:Reduce to /job:localhost/replica:0/task:0/device:CPU:0 then broadcast to ('/job:localhost/replica:0/task:0/device:CPU:0',).\n",
      "INFO:tensorflow:Reduce to /job:localhost/replica:0/task:0/device:CPU:0 then broadcast to ('/job:localhost/replica:0/task:0/device:CPU:0',).\n",
      "2129/2129 - 136s - loss: 1.1972 - accuracy: 0.5415 - val_loss: 0.9645 - val_accuracy: 0.6285\n",
      "Epoch 2/50\n",
      "2129/2129 - 129s - loss: 0.8915 - accuracy: 0.6579 - val_loss: 0.8222 - val_accuracy: 0.6862\n",
      "Epoch 3/50\n",
      "2129/2129 - 128s - loss: 0.7736 - accuracy: 0.7063 - val_loss: 0.7328 - val_accuracy: 0.7216\n",
      "Epoch 4/50\n",
      "2129/2129 - 127s - loss: 0.6874 - accuracy: 0.7411 - val_loss: 0.6626 - val_accuracy: 0.7529\n",
      "Epoch 5/50\n",
      "2129/2129 - 124s - loss: 0.6251 - accuracy: 0.7643 - val_loss: 0.6373 - val_accuracy: 0.7620\n",
      "Epoch 6/50\n",
      "2129/2129 - 115s - loss: 0.5733 - accuracy: 0.7854 - val_loss: 0.5591 - val_accuracy: 0.7885\n",
      "Epoch 7/50\n",
      "2129/2129 - 112s - loss: 0.5315 - accuracy: 0.8018 - val_loss: 0.5695 - val_accuracy: 0.7900\n",
      "Epoch 8/50\n",
      "2129/2129 - 113s - loss: 0.4914 - accuracy: 0.8164 - val_loss: 0.5073 - val_accuracy: 0.8095\n",
      "Epoch 9/50\n",
      "2129/2129 - 115s - loss: 0.4646 - accuracy: 0.8262 - val_loss: 0.4752 - val_accuracy: 0.8251\n",
      "Epoch 10/50\n",
      "2129/2129 - 125s - loss: 0.4464 - accuracy: 0.8350 - val_loss: 0.4781 - val_accuracy: 0.8241\n",
      "Epoch 11/50\n",
      "2129/2129 - 120s - loss: 0.4179 - accuracy: 0.8452 - val_loss: 0.4715 - val_accuracy: 0.8265\n",
      "Epoch 12/50\n",
      "2129/2129 - 122s - loss: 0.4081 - accuracy: 0.8475 - val_loss: 0.4350 - val_accuracy: 0.8382\n",
      "Epoch 13/50\n",
      "2129/2129 - 121s - loss: 0.3949 - accuracy: 0.8535 - val_loss: 0.4333 - val_accuracy: 0.8402\n",
      "Epoch 14/50\n",
      "2129/2129 - 116s - loss: 0.3778 - accuracy: 0.8597 - val_loss: 0.4370 - val_accuracy: 0.8432\n",
      "Epoch 15/50\n",
      "2129/2129 - 117s - loss: 0.3724 - accuracy: 0.8620 - val_loss: 0.4589 - val_accuracy: 0.8354\n",
      "Epoch 16/50\n",
      "2129/2129 - 111s - loss: 0.3586 - accuracy: 0.8680 - val_loss: 0.4544 - val_accuracy: 0.8364\n",
      "Epoch 17/50\n",
      "2129/2129 - 113s - loss: 0.3548 - accuracy: 0.8682 - val_loss: 0.4555 - val_accuracy: 0.8396\n",
      "Epoch 18/50\n",
      "2129/2129 - 112s - loss: 0.3533 - accuracy: 0.8694 - val_loss: 0.5059 - val_accuracy: 0.8274\n",
      "Epoch 19/50\n",
      "2129/2129 - 112s - loss: 0.3428 - accuracy: 0.8727 - val_loss: 0.4592 - val_accuracy: 0.8369\n",
      "Epoch 20/50\n",
      "2129/2129 - 112s - loss: 0.3364 - accuracy: 0.8749 - val_loss: 0.4283 - val_accuracy: 0.8518\n",
      "Epoch 21/50\n",
      "2129/2129 - 112s - loss: 0.3355 - accuracy: 0.8756 - val_loss: 0.4281 - val_accuracy: 0.8498\n",
      "Epoch 22/50\n",
      "2129/2129 - 112s - loss: 0.3275 - accuracy: 0.8791 - val_loss: 0.4517 - val_accuracy: 0.8415\n",
      "Epoch 23/50\n",
      "2129/2129 - 113s - loss: 0.3241 - accuracy: 0.8802 - val_loss: 0.4334 - val_accuracy: 0.8494\n",
      "Epoch 24/50\n",
      "2129/2129 - 112s - loss: 0.3242 - accuracy: 0.8789 - val_loss: 0.4537 - val_accuracy: 0.8444\n",
      "Epoch 25/50\n",
      "2129/2129 - 112s - loss: 0.3213 - accuracy: 0.8806 - val_loss: 0.4045 - val_accuracy: 0.8563\n",
      "Epoch 26/50\n",
      "2129/2129 - 112s - loss: 0.3156 - accuracy: 0.8829 - val_loss: 0.4492 - val_accuracy: 0.8454\n",
      "Epoch 27/50\n",
      "2129/2129 - 112s - loss: 0.3178 - accuracy: 0.8817 - val_loss: 0.4806 - val_accuracy: 0.8361\n",
      "Epoch 28/50\n",
      "2129/2129 - 115s - loss: 0.3199 - accuracy: 0.8823 - val_loss: 0.4021 - val_accuracy: 0.8629\n",
      "Epoch 29/50\n",
      "2129/2129 - 119s - loss: 0.3251 - accuracy: 0.8785 - val_loss: 0.4189 - val_accuracy: 0.8542\n",
      "Epoch 30/50\n",
      "2129/2129 - 118s - loss: 0.3141 - accuracy: 0.8829 - val_loss: 0.4703 - val_accuracy: 0.8444\n",
      "Epoch 31/50\n",
      "2129/2129 - 119s - loss: 0.3127 - accuracy: 0.8838 - val_loss: 0.4487 - val_accuracy: 0.8501\n",
      "Epoch 32/50\n",
      "2129/2129 - 119s - loss: 0.3155 - accuracy: 0.8828 - val_loss: 0.4151 - val_accuracy: 0.8571\n",
      "Epoch 33/50\n",
      "2129/2129 - 119s - loss: 0.3060 - accuracy: 0.8863 - val_loss: 0.4527 - val_accuracy: 0.8493\n",
      "Epoch 34/50\n",
      "2129/2129 - 119s - loss: 0.3227 - accuracy: 0.8783 - val_loss: 0.4041 - val_accuracy: 0.8615\n",
      "Epoch 35/50\n",
      "2129/2129 - 118s - loss: 0.3220 - accuracy: 0.8797 - val_loss: 0.4467 - val_accuracy: 0.8485\n",
      "Epoch 36/50\n",
      "2129/2129 - 119s - loss: 0.3254 - accuracy: 0.8787 - val_loss: 0.4486 - val_accuracy: 0.8481\n",
      "Epoch 37/50\n",
      "2129/2129 - 119s - loss: 0.3205 - accuracy: 0.8801 - val_loss: 0.4787 - val_accuracy: 0.8367\n",
      "Epoch 38/50\n",
      "2129/2129 - 119s - loss: 0.3177 - accuracy: 0.8828 - val_loss: 0.4278 - val_accuracy: 0.8539\n",
      "Epoch 00038: early stopping\n"
     ]
    }
   ],
   "source": [
    "hist = BiLSTM_model.fit([U_train, X_train], y_train, batch_size=32, epochs=50, verbose=2,\n",
    "                     callbacks=callback_list, validation_data=([U_test, X_test], y_test))"
   ]
  },
  {
   "cell_type": "code",
   "execution_count": 19,
   "id": "e06d5a4d",
   "metadata": {},
   "outputs": [],
   "source": [
    "BiLSTM_model.save('model\\SER_BiLSTM_model.h5')"
   ]
  },
  {
   "cell_type": "code",
   "execution_count": 16,
   "id": "bafcc51d",
   "metadata": {},
   "outputs": [],
   "source": [
    "# Load the saved the model.\n",
    "BiLSTM_model = load_model('model\\SER_BiLSTM_model.h5')"
   ]
  },
  {
   "cell_type": "code",
   "execution_count": 17,
   "id": "47465df2",
   "metadata": {},
   "outputs": [
    {
     "name": "stdout",
     "output_type": "stream",
     "text": [
      "134/134 [==============================] - 8s 36ms/step - loss: 0.4278 - accuracy: 0.8539\n",
      "BiLSTM model accuracy: 0.8538791537284851\n",
      "CPU times: total: 3.14 s\n",
      "Wall time: 8.37 s\n"
     ]
    }
   ],
   "source": [
    "%%time\n",
    "score, accuracy = BiLSTM_model.evaluate([U_test, X_test], y_test, batch_size=128, verbose=1)\n",
    "print(\"BiLSTM model accuracy: %s\" % accuracy)"
   ]
  },
  {
   "cell_type": "code",
   "execution_count": null,
   "id": "3891ab56",
   "metadata": {},
   "outputs": [],
   "source": []
  },
  {
   "cell_type": "code",
   "execution_count": 23,
   "id": "3044f359",
   "metadata": {},
   "outputs": [
    {
     "name": "stdout",
     "output_type": "stream",
     "text": [
      "CPU times: total: 1.61 s\n",
      "Wall time: 10.3 s\n"
     ]
    },
    {
     "data": {
      "text/html": [
       "<div>\n",
       "<style scoped>\n",
       "    .dataframe tbody tr th:only-of-type {\n",
       "        vertical-align: middle;\n",
       "    }\n",
       "\n",
       "    .dataframe tbody tr th {\n",
       "        vertical-align: top;\n",
       "    }\n",
       "\n",
       "    .dataframe thead th {\n",
       "        text-align: right;\n",
       "    }\n",
       "</style>\n",
       "<table border=\"1\" class=\"dataframe\">\n",
       "  <thead>\n",
       "    <tr style=\"text-align: right;\">\n",
       "      <th></th>\n",
       "      <th>Predicted Labels</th>\n",
       "      <th>Actual Labels</th>\n",
       "    </tr>\n",
       "  </thead>\n",
       "  <tbody>\n",
       "    <tr>\n",
       "      <th>0</th>\n",
       "      <td>neutral</td>\n",
       "      <td>neutral</td>\n",
       "    </tr>\n",
       "    <tr>\n",
       "      <th>1</th>\n",
       "      <td>happy</td>\n",
       "      <td>happy</td>\n",
       "    </tr>\n",
       "    <tr>\n",
       "      <th>2</th>\n",
       "      <td>neutral</td>\n",
       "      <td>fear</td>\n",
       "    </tr>\n",
       "    <tr>\n",
       "      <th>3</th>\n",
       "      <td>fear</td>\n",
       "      <td>happy</td>\n",
       "    </tr>\n",
       "    <tr>\n",
       "      <th>4</th>\n",
       "      <td>happy</td>\n",
       "      <td>disgust</td>\n",
       "    </tr>\n",
       "    <tr>\n",
       "      <th>5</th>\n",
       "      <td>angry</td>\n",
       "      <td>angry</td>\n",
       "    </tr>\n",
       "    <tr>\n",
       "      <th>6</th>\n",
       "      <td>disgust</td>\n",
       "      <td>disgust</td>\n",
       "    </tr>\n",
       "    <tr>\n",
       "      <th>7</th>\n",
       "      <td>disgust</td>\n",
       "      <td>disgust</td>\n",
       "    </tr>\n",
       "    <tr>\n",
       "      <th>8</th>\n",
       "      <td>neutral</td>\n",
       "      <td>neutral</td>\n",
       "    </tr>\n",
       "    <tr>\n",
       "      <th>9</th>\n",
       "      <td>neutral</td>\n",
       "      <td>neutral</td>\n",
       "    </tr>\n",
       "    <tr>\n",
       "      <th>10</th>\n",
       "      <td>surprise</td>\n",
       "      <td>surprise</td>\n",
       "    </tr>\n",
       "    <tr>\n",
       "      <th>11</th>\n",
       "      <td>disgust</td>\n",
       "      <td>disgust</td>\n",
       "    </tr>\n",
       "    <tr>\n",
       "      <th>12</th>\n",
       "      <td>sad</td>\n",
       "      <td>sad</td>\n",
       "    </tr>\n",
       "    <tr>\n",
       "      <th>13</th>\n",
       "      <td>happy</td>\n",
       "      <td>happy</td>\n",
       "    </tr>\n",
       "    <tr>\n",
       "      <th>14</th>\n",
       "      <td>happy</td>\n",
       "      <td>angry</td>\n",
       "    </tr>\n",
       "  </tbody>\n",
       "</table>\n",
       "</div>"
      ],
      "text/plain": [
       "   Predicted Labels Actual Labels\n",
       "0           neutral       neutral\n",
       "1             happy         happy\n",
       "2           neutral          fear\n",
       "3              fear         happy\n",
       "4             happy       disgust\n",
       "5             angry         angry\n",
       "6           disgust       disgust\n",
       "7           disgust       disgust\n",
       "8           neutral       neutral\n",
       "9           neutral       neutral\n",
       "10         surprise      surprise\n",
       "11          disgust       disgust\n",
       "12              sad           sad\n",
       "13            happy         happy\n",
       "14            happy         angry"
      ]
     },
     "execution_count": 23,
     "metadata": {},
     "output_type": "execute_result"
    }
   ],
   "source": [
    "%%time\n",
    "# predicting on test data.\n",
    "predall_test = BiLSTM_model.predict([U_test, X_test])\n",
    "predall_test\n",
    "y_predall = encoder.inverse_transform(predall_test)\n",
    "y_testall = encoder.inverse_transform(y_test)\n",
    "df = pd.DataFrame(columns=['Predicted Labels', 'Actual Labels'])\n",
    "df['Predicted Labels'] = y_predall.flatten()\n",
    "df['Actual Labels'] = y_testall.flatten()\n",
    "\n",
    "df.head(15)"
   ]
  },
  {
   "cell_type": "code",
   "execution_count": 24,
   "id": "98d2303e",
   "metadata": {},
   "outputs": [
    {
     "name": "stdout",
     "output_type": "stream",
     "text": [
      "              precision    recall  f1-score   support\n",
      "\n",
      "       angry       0.94      0.86      0.90      2697\n",
      "        calm       0.83      0.93      0.88       262\n",
      "     disgust       0.92      0.76      0.83      2709\n",
      "        fear       0.84      0.82      0.83      2702\n",
      "       happy       0.85      0.86      0.86      2674\n",
      "     neutral       0.79      0.90      0.84      2448\n",
      "         sad       0.77      0.88      0.82      2652\n",
      "    surprise       0.95      0.97      0.96       883\n",
      "\n",
      "    accuracy                           0.85     17027\n",
      "   macro avg       0.86      0.87      0.87     17027\n",
      "weighted avg       0.86      0.85      0.85     17027\n",
      "\n"
     ]
    }
   ],
   "source": [
    "print(classification_report(y_testall, y_predall))"
   ]
  },
  {
   "cell_type": "code",
   "execution_count": 25,
   "id": "eecfa56e",
   "metadata": {},
   "outputs": [
    {
     "data": {
      "image/png": "[encoded data removed]",
      "text/plain": [
       "<Figure size 1200x1000 with 2 Axes>"
      ]
     },
     "metadata": {},
     "output_type": "display_data"
    }
   ],
   "source": [
    "cm = confusion_matrix(y_testall, y_predall)\n",
    "plt.figure(figsize = (12, 10))\n",
    "cm = pd.DataFrame(cm , index = [i for i in encoder.categories_] , columns = [i for i in encoder.categories_])\n",
    "sns.heatmap(cm, linecolor='white', cmap='Blues', linewidth=1, annot=True, fmt='')\n",
    "plt.title('Confusion Matrix for All Emotions', size=20)\n",
    "plt.xlabel('Predicted Labels', size=14)\n",
    "plt.ylabel('Actual Labels', size=14)\n",
    "plt.show()"
   ]
  },
  {
   "cell_type": "code",
   "execution_count": null,
   "id": "6c4c233b",
   "metadata": {},
   "outputs": [],
   "source": []
  }
 ],
 "metadata": {
  "kernelspec": {
   "display_name": "Python 3 (ipykernel)",
   "language": "python",
   "name": "python3"
  },
  "language_info": {
   "codemirror_mode": {
    "name": "ipython",
    "version": 3
   },
   "file_extension": ".py",
   "mimetype": "text/x-python",
   "name": "python",
   "nbconvert_exporter": "python",
   "pygments_lexer": "ipython3",
   "version": "3.9.16"
  }
 },
 "nbformat": 4,
 "nbformat_minor": 5
}
